{
 "cells": [
  {
   "cell_type": "code",
   "execution_count": 2,
   "metadata": {},
   "outputs": [],
   "source": [
    "class StudentObj:\n",
    "    \n",
    "    count = 0\n",
    "    \n",
    "    def __init__(self, RollNo, Name, Marks):\n",
    "        self.RollNo = RollNo\n",
    "        self.Name = Name\n",
    "        self.Marks = Marks\n",
    "        count += 1\n",
    "    \n",
    "    def __str__(self):\n",
    "        return 'RollNo: ' + self.RollNo + '\\nName: ' + self.Name + '\\nMarks: ' + self.Marks\n"
   ]
  },
  {
   "cell_type": "code",
   "execution_count": 6,
   "metadata": {},
   "outputs": [],
   "source": [
    "def main():\n",
    "    \n",
    "    myfile = open('student.txt')\n",
    "    \n",
    "    for i in myfile:\n",
    "        StudentObj(i)\n",
    "        print()"
   ]
  },
  {
   "cell_type": "code",
   "execution_count": null,
   "metadata": {},
   "outputs": [],
   "source": []
  }
 ],
 "metadata": {
  "kernelspec": {
   "display_name": "Python 3",
   "language": "python",
   "name": "python3"
  },
  "language_info": {
   "codemirror_mode": {
    "name": "ipython",
    "version": 3
   },
   "file_extension": ".py",
   "mimetype": "text/x-python",
   "name": "python",
   "nbconvert_exporter": "python",
   "pygments_lexer": "ipython3",
   "version": "3.7.1"
  }
 },
 "nbformat": 4,
 "nbformat_minor": 2
}
