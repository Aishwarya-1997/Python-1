{
 "cells": [
  {
   "cell_type": "code",
   "execution_count": 1,
   "metadata": {},
   "outputs": [
    {
     "name": "stdout",
     "output_type": "stream",
     "text": [
      "This is a string with an insert\n"
     ]
    }
   ],
   "source": [
    "print('This is a string with an {}'.format('insert'))"
   ]
  },
  {
   "cell_type": "markdown",
   "metadata": {},
   "source": [
    "##### 1. Inserted objects can be called by index position:"
   ]
  },
  {
   "cell_type": "code",
   "execution_count": 2,
   "metadata": {},
   "outputs": [
    {
     "name": "stdout",
     "output_type": "stream",
     "text": [
      "The quick brown fox\n"
     ]
    }
   ],
   "source": [
    "print('The {2} {1} {0}'.format('fox','brown','quick'))"
   ]
  },
  {
   "cell_type": "markdown",
   "metadata": {},
   "source": [
    "##### 2. Inserted objects can be assigned keywords:"
   ]
  },
  {
   "cell_type": "code",
   "execution_count": 3,
   "metadata": {},
   "outputs": [
    {
     "name": "stdout",
     "output_type": "stream",
     "text": [
      "avtaar nhi hai wo insaan hai, Shaktimaan Shaktimaan Shaktimaan\n"
     ]
    }
   ],
   "source": [
    "print(\"{a} nhi hai wo {i} hai, {s} {s} {s}\".format(s='Shaktimaan',a='avtaar',i=\"insaan\"))"
   ]
  },
  {
   "cell_type": "markdown",
   "metadata": {},
   "source": [
    "### ------------------------------------------------------------------------------------------------------------------------------------"
   ]
  },
  {
   "cell_type": "markdown",
   "metadata": {},
   "source": [
    "#### Accessing arguments by name:"
   ]
  },
  {
   "cell_type": "code",
   "execution_count": 36,
   "metadata": {
    "scrolled": true
   },
   "outputs": [
    {
     "name": "stdout",
     "output_type": "stream",
     "text": [
      "Coordinates : 37.24N,-115.81W\n",
      "Coordinates : 37.24N,-115.81W\n"
     ]
    }
   ],
   "source": [
    "print('Coordinates : {latitude},{longitude}'.format(latitude='37.24N', longitude='-115.81W'))\n",
    "coord = {'latitude':'37.24N','longitude':'-115.81W'}\n",
    "print('Coordinates : {latitude},{longitude}'.format(**coord))"
   ]
  },
  {
   "cell_type": "markdown",
   "metadata": {},
   "source": [
    "### -------------------------------------------------------------------------------------------------------------------------------------"
   ]
  },
  {
   "cell_type": "markdown",
   "metadata": {},
   "source": [
    "#### Accessing arguments’ attributes:"
   ]
  },
  {
   "cell_type": "code",
   "execution_count": 44,
   "metadata": {},
   "outputs": [
    {
     "data": {
      "text/plain": [
       "'The Complex Number (3-5j) is formed by real part 3.0 and imaginary part -5.0'"
      ]
     },
     "execution_count": 44,
     "metadata": {},
     "output_type": "execute_result"
    }
   ],
   "source": [
    "c= 3-5j\n",
    "'The Complex Number {0} is formed by real part {0.real} and imaginary part {0.imag}'.format(c)"
   ]
  },
  {
   "cell_type": "code",
   "execution_count": 55,
   "metadata": {},
   "outputs": [
    {
     "data": {
      "text/plain": [
       "'Point(4,2)'"
      ]
     },
     "execution_count": 55,
     "metadata": {},
     "output_type": "execute_result"
    }
   ],
   "source": [
    "class Point:\n",
    "    def __init__(self,x,y):\n",
    "        self.x , self.y = x , y\n",
    "    def __str__(self):\n",
    "        return \"Point({s.x},{s.y})\".format(s=self)\n",
    "str(Point(4,2))"
   ]
  },
  {
   "cell_type": "code",
   "execution_count": 56,
   "metadata": {},
   "outputs": [
    {
     "data": {
      "text/plain": [
       "'Point(4,2)'"
      ]
     },
     "execution_count": 56,
     "metadata": {},
     "output_type": "execute_result"
    }
   ],
   "source": [
    "class Point:\n",
    "    def __init__(self,x,y):\n",
    "        self.x , self.y = x , y\n",
    "    def __str__(self):\n",
    "        return \"Point({0.x},{0.y})\".format(self)\n",
    "str(Point(4,2))"
   ]
  },
  {
   "cell_type": "markdown",
   "metadata": {},
   "source": [
    "### ------------------------------------------------------------------------------------------------------------------------------------"
   ]
  },
  {
   "cell_type": "markdown",
   "metadata": {},
   "source": [
    "#### Numbers in different number system and using , as a thousand operator"
   ]
  },
  {
   "cell_type": "code",
   "execution_count": 71,
   "metadata": {},
   "outputs": [
    {
     "data": {
      "text/plain": [
       "'Binary : 10101000 , Octal : 250 , Decimal : 168 , Hex : a8'"
      ]
     },
     "execution_count": 71,
     "metadata": {},
     "output_type": "execute_result"
    }
   ],
   "source": [
    "'Binary : {0:b} , Octal : {0:o} , Decimal : {0:d} , Hex : {0:x}'.format(168)"
   ]
  },
  {
   "cell_type": "code",
   "execution_count": 64,
   "metadata": {},
   "outputs": [
    {
     "data": {
      "text/plain": [
       "'12,345,678'"
      ]
     },
     "execution_count": 64,
     "metadata": {},
     "output_type": "execute_result"
    }
   ],
   "source": [
    "'{:,}'.format(12345678)"
   ]
  },
  {
   "cell_type": "markdown",
   "metadata": {},
   "source": [
    "### ------------------------------------------------------------------------------------------------------------------------------------"
   ]
  },
  {
   "cell_type": "markdown",
   "metadata": {},
   "source": [
    "#### Using type specific formatting"
   ]
  },
  {
   "cell_type": "code",
   "execution_count": 69,
   "metadata": {},
   "outputs": [
    {
     "name": "stdout",
     "output_type": "stream",
     "text": [
      "2019-08-30  05:06:45\n"
     ]
    }
   ],
   "source": [
    "import datetime\n",
    "d = datetime.datetime(2019,8,30,5,6,45)\n",
    "print('{:%Y-%m-%d  %H:%M:%S}'.format(d))"
   ]
  },
  {
   "cell_type": "markdown",
   "metadata": {},
   "source": [
    "### Alignment, padding and precision with .format()"
   ]
  },
  {
   "cell_type": "markdown",
   "metadata": {},
   "source": [
    "Within the curly braces you can assign field lengths, left/right alignments, rounding parameters and more"
   ]
  },
  {
   "cell_type": "code",
   "execution_count": 4,
   "metadata": {},
   "outputs": [
    {
     "name": "stdout",
     "output_type": "stream",
     "text": [
      "Fruit    | Quantity \n",
      "Apples   |       3.0\n",
      "mango |  12.5\n"
     ]
    }
   ],
   "source": [
    "print('{0:8} | {1:9}'.format('Fruit', 'Quantity'))\n",
    "print('{0:8} | {1:9}'.format('Apples', 3.))\n",
    "print(\"{0:6}| {1:5}\".format('mango',12.5))"
   ]
  },
  {
   "cell_type": "markdown",
   "metadata": {},
   "source": [
    "By default, .format() aligns text to the left, numbers to the right. You can pass an optional <,^, or > to set a left, center or right alignment:"
   ]
  },
  {
   "cell_type": "code",
   "execution_count": 11,
   "metadata": {},
   "outputs": [
    {
     "name": "stdout",
     "output_type": "stream",
     "text": [
      "left     |  center  |    right\n",
      "33       |    22    |       11\n"
     ]
    }
   ],
   "source": [
    "print(\"{2:<8} | {1:^8} | {0:>8}\".format(\"right\",\"center\",\"left\"))\n",
    "print(\"{2:<8} | {1:^8} | {0:>8}\".format(\"11\",\"22\",\"33\"))"
   ]
  },
  {
   "cell_type": "code",
   "execution_count": 12,
   "metadata": {},
   "outputs": [
    {
     "name": "stdout",
     "output_type": "stream",
     "text": [
      "left#### | $center$ | %%%right\n",
      "33       |    22    |       11\n"
     ]
    }
   ],
   "source": [
    "print(\"{2:#<8} | {1:$^8} | {0:%>8}\".format(\"right\",\"center\",\"left\"))\n",
    "print(\"{2:<8} | {1:^8} | {0:>8}\".format(\"11\",\"22\",\"33\"))"
   ]
  },
  {
   "cell_type": "code",
   "execution_count": 25,
   "metadata": {},
   "outputs": [
    {
     "name": "stdout",
     "output_type": "stream",
     "text": [
      "This is a ten-character :      2.35\n"
     ]
    }
   ],
   "source": [
    "print(\"This is a ten-character :{0:10.2f}\".format(2.3456))"
   ]
  },
  {
   "cell_type": "markdown",
   "metadata": {},
   "source": [
    "Note that there are 5 spaces following the colon, and 5 characters taken up by 13.58, for a total of ten characters."
   ]
  },
  {
   "cell_type": "markdown",
   "metadata": {},
   "source": [
    "### ------------------------------------------------------------------------------------------------------------------------------------"
   ]
  },
  {
   "cell_type": "code",
   "execution_count": 82,
   "metadata": {},
   "outputs": [
    {
     "data": {
      "text/plain": [
       "'C0A80001'"
      ]
     },
     "execution_count": 82,
     "metadata": {},
     "output_type": "execute_result"
    }
   ],
   "source": [
    "octets = [192, 168, 0, 1]\n",
    "'{:02X}{:02X}{:02X}{:02X}'.format(*octets)"
   ]
  },
  {
   "cell_type": "code",
   "execution_count": 97,
   "metadata": {},
   "outputs": [
    {
     "name": "stdout",
     "output_type": "stream",
     "text": [
      "    5     5     5   101 \n",
      "    6     6     6   110 \n",
      "    7     7     7   111 \n",
      "    8     8    10  1000 \n",
      "    9     9    11  1001 \n",
      "   10     a    12  1010 \n",
      "   11     b    13  1011 \n",
      "   12     c    14  1100 \n",
      "   13     d    15  1101 \n",
      "   14     e    16  1110 \n",
      "   15     f    17  1111 \n",
      "   16    10    20 10000 \n",
      "   17    11    21 10001 \n",
      "   18    12    22 10010 \n",
      "   19    13    23 10011 \n"
     ]
    }
   ],
   "source": [
    "for i in range(5,20):\n",
    "    for j in 'dxob':\n",
    "        print('{0:5{base}}'.format(i,base=j),end = ' ')\n",
    "    print()"
   ]
  },
  {
   "cell_type": "markdown",
   "metadata": {},
   "source": [
    "## Template"
   ]
  },
  {
   "cell_type": "code",
   "execution_count": 107,
   "metadata": {},
   "outputs": [
    {
     "name": "stdout",
     "output_type": "stream",
     "text": [
      "Romeo likes Juliet\n",
      "Tota likes Maina\n",
      "yoyo likes $whom\n"
     ]
    }
   ],
   "source": [
    "from string import Template\n",
    "s = Template(\"$who likes $whom\")\n",
    "print(s.substitute(who='Romeo',whom='Juliet'))\n",
    "print(s.substitute(who='Tota',whom='Maina'))\n",
    "print(s.safe_substitute(who='yoyo',whom='honeysingh'))"
   ]
  },
  {
   "cell_type": "code",
   "execution_count": null,
   "metadata": {},
   "outputs": [],
   "source": []
  }
 ],
 "metadata": {
  "kernelspec": {
   "display_name": "Python 3",
   "language": "python",
   "name": "python3"
  },
  "language_info": {
   "codemirror_mode": {
    "name": "ipython",
    "version": 3
   },
   "file_extension": ".py",
   "mimetype": "text/x-python",
   "name": "python",
   "nbconvert_exporter": "python",
   "pygments_lexer": "ipython3",
   "version": "3.7.3"
  }
 },
 "nbformat": 4,
 "nbformat_minor": 2
}
