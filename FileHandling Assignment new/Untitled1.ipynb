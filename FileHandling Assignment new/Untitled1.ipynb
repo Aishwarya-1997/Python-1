{
 "cells": [
  {
   "cell_type": "code",
   "execution_count": 1,
   "metadata": {},
   "outputs": [],
   "source": [
    "import pickle"
   ]
  },
  {
   "cell_type": "code",
   "execution_count": 2,
   "metadata": {},
   "outputs": [],
   "source": [
    "class Student:\n",
    "    '''\n",
    "        A Student class to represent student object\n",
    "    '''\n",
    "    \n",
    "    def __init__(self, RollNo, Name, Marks):\n",
    "        '''\n",
    "            Purpose: To initialize Object of class Student\n",
    "            Input Parameters:\n",
    "                self (implicit parameter) -- object of type person\n",
    "                RollNo -- an integer value\n",
    "                Name -- string\n",
    "                Makrks -- float\n",
    "            Return Value: None\n",
    "        '''\n",
    "        \n",
    "        self.RollNo = RollNo\n",
    "        self.Name = Name\n",
    "        self.Marks = Marks\n",
    "        \n",
    "    def writeStudent(self,filename):\n",
    "        '''\n",
    "            Objective : To add student object to a file\n",
    "            Input Parameters : filename - name of the file in which to add the student obect\n",
    "            Return value : None\n",
    "        '''\n",
    "            \n",
    "        with open(filename,'a') as f:\n",
    "            f.write(str(self.RollNo) + ',' + self.Name + ',' + str(self.Marks) + '\\n')\n",
    "            \n",
    "    def __str__(self):\n",
    "        '''\n",
    "        Utility function to display student information when the student object is called\n",
    "        '''\n",
    "        return str(self.RollNo) + ',' + self.Name + ',' + str(self.Marks)"
   ]
  },
  {
   "cell_type": "code",
   "execution_count": 3,
   "metadata": {},
   "outputs": [],
   "source": [
    "def createStudentObjFile(studentTxtFile, studentObjFile):\n",
    "    '''\n",
    "    Objective: To make an object file containing Student objects in it\n",
    "    Input Parameter(s): studentTextFile - name of the file from which to read the student data\n",
    "                        studentObjectFile - name of the file in which to store student objects\n",
    "    Return Value(s): None\n",
    "    '''\n",
    "    \n",
    "    studentList = []\n",
    "    \n",
    "    # Reading student txt file and appending to studentList\n",
    "    with open(studentTxtFile,'r') as txtFile:\n",
    "        for line in txtFile:\n",
    "            rollNo, name, marks = line.split(',')\n",
    "            student = Student(int(rollNo),name,float(marks))\n",
    "            studentList.append(student)\n",
    "            \n",
    "    # making student object file\n",
    "    with open(studentObjFile,'wb') as objFile:\n",
    "        pickle.dump(studentList,objFile)\n",
    "    \n",
    "def updateStudentObjFile(revisedTxtFile, studentObjFile):\n",
    "    '''\n",
    "    Objective: To update the object file containing Student objects in it\n",
    "    Input Parameter(s): revisedTextFile - name of the file from which to read the updated student data\n",
    "                        studentObjectFile - name of the file in which to store the updated student objects\n",
    "    Return Value(s): None\n",
    "    '''\n",
    "    \n",
    "     \n",
    "    # Reading student objects from object file\n",
    "    with open(studentObjFile,'rb') as objFile:\n",
    "        studentList = pickle.load(objFile)\n",
    "\n",
    "    # Reading updated student text file and updated data\n",
    "    with open(revisedTxtFile,'r') as txtFile: \n",
    "        for line in txtFile:\n",
    "            roll,name,marks = line.split(',')\n",
    "            roll = int(roll)\n",
    "            marks = float(marks)\n",
    "            for idx in range(len(studentList)):\n",
    "                if roll == studentList[idx].RollNo:\n",
    "                    studentList[idx].Marks=marks\n",
    "                    \n",
    "    # Updating student object file\n",
    "    with open(studentObjFile,'wb') as objFile:\n",
    "        pickle.dump(studentList,objFile)\n",
    "        \n",
    "def printStudentInfo(filename):\n",
    "    '''\n",
    "    Objective: Read student objects and print information of each student on different lines\n",
    "    Input Parameter(s): filename - name of the file from which to read the student data\n",
    "    Return Value(s): None\n",
    "    '''\n",
    "    \n",
    "    # Reading and printing the student objects\n",
    "    with open(filename,'rb') as objFile:\n",
    "        for s in pickle.load(objFile):\n",
    "            print(s)"
   ]
  },
  {
   "cell_type": "code",
   "execution_count": 4,
   "metadata": {},
   "outputs": [],
   "source": [
    "textFileName = 'student.txt'\n",
    "objFileName = 'studentObj.pkl'\n",
    "updateTxtFileName = 'revised.txt'"
   ]
  },
  {
   "cell_type": "code",
   "execution_count": 5,
   "metadata": {},
   "outputs": [
    {
     "name": "stdout",
     "output_type": "stream",
     "text": [
      "1,Sonu,85.0\n",
      "2,Monu,90.0\n",
      "3,Chintu,78.0\n",
      "4,Mintu,96.0\n",
      "5,Guddu,98.0\n",
      "6,Duggu,88.0\n",
      "7,pinku,69.0\n",
      "8,Pinki,82.0\n"
     ]
    }
   ],
   "source": [
    "createStudentObjFile(textFileName,objFileName)\n",
    "printStudentInfo(objFileName)"
   ]
  },
  {
   "cell_type": "code",
   "execution_count": 9,
   "metadata": {},
   "outputs": [
    {
     "name": "stdout",
     "output_type": "stream",
     "text": [
      "1,Sonu,85.0\n",
      "2,Monu,91.0\n",
      "3,Chintu,78.0\n",
      "4,Mintu,96.0\n",
      "5,Guddu,98.0\n",
      "6,Duggu,88.0\n",
      "7,pinku,69.0\n",
      "8,Pinki,76.0\n"
     ]
    }
   ],
   "source": [
    "updateStudentObjFile(updateTxtFileName,objFileName)\n",
    "printStudentInfo(objFileName)"
   ]
  },
  {
   "cell_type": "code",
   "execution_count": null,
   "metadata": {},
   "outputs": [],
   "source": []
  },
  {
   "cell_type": "code",
   "execution_count": null,
   "metadata": {},
   "outputs": [],
   "source": []
  }
 ],
 "metadata": {
  "kernelspec": {
   "display_name": "Python 3",
   "language": "python",
   "name": "python3"
  },
  "language_info": {
   "codemirror_mode": {
    "name": "ipython",
    "version": 3
   },
   "file_extension": ".py",
   "mimetype": "text/x-python",
   "name": "python",
   "nbconvert_exporter": "python",
   "pygments_lexer": "ipython3",
   "version": "3.7.1"
  }
 },
 "nbformat": 4,
 "nbformat_minor": 2
}
